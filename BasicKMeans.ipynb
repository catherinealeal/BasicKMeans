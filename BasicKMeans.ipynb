{
 "cells": [
  {
   "cell_type": "markdown",
   "id": "b2c07981",
   "metadata": {},
   "source": [
    "# Clustering with K-Means to Predict "
   ]
  },
  {
   "cell_type": "code",
   "execution_count": 2,
   "id": "ae3eb863",
   "metadata": {},
   "outputs": [],
   "source": [
    "import pandas as pd\n",
    "import matplotlib.pyplot as plt\n",
    "import numpy as np"
   ]
  },
  {
   "cell_type": "markdown",
   "id": "9388ca11",
   "metadata": {},
   "source": [
    "## Goal \n",
    "Write functions to implement the basic k-means algorithm and apply those to a test dataset. "
   ]
  },
  {
   "cell_type": "markdown",
   "id": "899d00ac",
   "metadata": {},
   "source": [
    "## Load Data \n"
   ]
  },
  {
   "cell_type": "code",
   "execution_count": 3,
   "id": "e4c431f1",
   "metadata": {},
   "outputs": [
    {
     "data": {
      "text/html": [
       "<div>\n",
       "<style scoped>\n",
       "    .dataframe tbody tr th:only-of-type {\n",
       "        vertical-align: middle;\n",
       "    }\n",
       "\n",
       "    .dataframe tbody tr th {\n",
       "        vertical-align: top;\n",
       "    }\n",
       "\n",
       "    .dataframe thead th {\n",
       "        text-align: right;\n",
       "    }\n",
       "</style>\n",
       "<table border=\"1\" class=\"dataframe\">\n",
       "  <thead>\n",
       "    <tr style=\"text-align: right;\">\n",
       "      <th></th>\n",
       "      <th>x</th>\n",
       "      <th>y</th>\n",
       "    </tr>\n",
       "  </thead>\n",
       "  <tbody>\n",
       "    <tr>\n",
       "      <th>0</th>\n",
       "      <td>-0.731698</td>\n",
       "      <td>-0.874311</td>\n",
       "    </tr>\n",
       "    <tr>\n",
       "      <th>1</th>\n",
       "      <td>-0.547702</td>\n",
       "      <td>-0.580320</td>\n",
       "    </tr>\n",
       "    <tr>\n",
       "      <th>2</th>\n",
       "      <td>-0.762840</td>\n",
       "      <td>-0.885572</td>\n",
       "    </tr>\n",
       "    <tr>\n",
       "      <th>3</th>\n",
       "      <td>-0.340946</td>\n",
       "      <td>-0.810411</td>\n",
       "    </tr>\n",
       "    <tr>\n",
       "      <th>4</th>\n",
       "      <td>-0.749065</td>\n",
       "      <td>-0.399218</td>\n",
       "    </tr>\n",
       "  </tbody>\n",
       "</table>\n",
       "</div>"
      ],
      "text/plain": [
       "          x         y\n",
       "0 -0.731698 -0.874311\n",
       "1 -0.547702 -0.580320\n",
       "2 -0.762840 -0.885572\n",
       "3 -0.340946 -0.810411\n",
       "4 -0.749065 -0.399218"
      ]
     },
     "execution_count": 3,
     "metadata": {},
     "output_type": "execute_result"
    }
   ],
   "source": [
    "df_kmeans = pd.read_csv(\"https://gist.githubusercontent.com/TieJean/ff4dbd0022ab5e292db73d8b4910f551/raw/624db21e20faa92b79e5289ce4d9002e863b0d68/data_kmeans.csv\")\n",
    "df_kmeans.head()"
   ]
  },
  {
   "cell_type": "markdown",
   "id": "c0f79452",
   "metadata": {},
   "source": [
    "## Write function to return k random rows \n",
    "\n",
    "This function will accept two parameters: a data frame df_data, and an integer k, and returns the initial centroids for our k-means algorithm. The return values will be the indices of k random points from the dataframe. \n",
    "\n",
    "Using random_state = 42"
   ]
  },
  {
   "cell_type": "code",
   "execution_count": 4,
   "id": "d0e9b7b3",
   "metadata": {},
   "outputs": [],
   "source": [
    "def init_centroids( df_data, k ):\n",
    "    return df_data.sample(n = k, random_state = 42).reset_index(drop=True)"
   ]
  },
  {
   "cell_type": "code",
   "execution_count": 6,
   "id": "1962c117",
   "metadata": {},
   "outputs": [
    {
     "data": {
      "text/html": [
       "<div>\n",
       "<style scoped>\n",
       "    .dataframe tbody tr th:only-of-type {\n",
       "        vertical-align: middle;\n",
       "    }\n",
       "\n",
       "    .dataframe tbody tr th {\n",
       "        vertical-align: top;\n",
       "    }\n",
       "\n",
       "    .dataframe thead th {\n",
       "        text-align: right;\n",
       "    }\n",
       "</style>\n",
       "<table border=\"1\" class=\"dataframe\">\n",
       "  <thead>\n",
       "    <tr style=\"text-align: right;\">\n",
       "      <th></th>\n",
       "      <th>x</th>\n",
       "      <th>y</th>\n",
       "    </tr>\n",
       "  </thead>\n",
       "  <tbody>\n",
       "    <tr>\n",
       "      <th>0</th>\n",
       "      <td>-0.633437</td>\n",
       "      <td>0.488756</td>\n",
       "    </tr>\n",
       "    <tr>\n",
       "      <th>1</th>\n",
       "      <td>-0.597736</td>\n",
       "      <td>0.632194</td>\n",
       "    </tr>\n",
       "    <tr>\n",
       "      <th>2</th>\n",
       "      <td>-0.635867</td>\n",
       "      <td>0.166613</td>\n",
       "    </tr>\n",
       "    <tr>\n",
       "      <th>3</th>\n",
       "      <td>-0.539351</td>\n",
       "      <td>-0.875532</td>\n",
       "    </tr>\n",
       "    <tr>\n",
       "      <th>4</th>\n",
       "      <td>-0.588597</td>\n",
       "      <td>0.293062</td>\n",
       "    </tr>\n",
       "    <tr>\n",
       "      <th>5</th>\n",
       "      <td>-0.127985</td>\n",
       "      <td>-0.136639</td>\n",
       "    </tr>\n",
       "    <tr>\n",
       "      <th>6</th>\n",
       "      <td>0.342579</td>\n",
       "      <td>0.211717</td>\n",
       "    </tr>\n",
       "  </tbody>\n",
       "</table>\n",
       "</div>"
      ],
      "text/plain": [
       "          x         y\n",
       "0 -0.633437  0.488756\n",
       "1 -0.597736  0.632194\n",
       "2 -0.635867  0.166613\n",
       "3 -0.539351 -0.875532\n",
       "4 -0.588597  0.293062\n",
       "5 -0.127985 -0.136639\n",
       "6  0.342579  0.211717"
      ]
     },
     "execution_count": 6,
     "metadata": {},
     "output_type": "execute_result"
    }
   ],
   "source": [
    "# apply function to data to get initial centroids \n",
    "df_centroids = init_centroids( df_kmeans, 7 )\n",
    "df_centroids"
   ]
  },
  {
   "cell_type": "markdown",
   "id": "a94a3884",
   "metadata": {},
   "source": [
    "## Write function to assign every row of data to a centroid \n",
    "This function will accept two parameters: a data frame, df_data, that represents our data to be clustered, and the data frame, df_centroids, which is of length k and contains the current centroids for our clusters.  It returns a series of the same length of df_data that contains the index of the closest centroid in df_centroid. \n",
    "\n",
    "Using Euclidean distance as the distance measure. "
   ]
  },
  {
   "cell_type": "code",
   "execution_count": 7,
   "id": "8e88a2b7",
   "metadata": {},
   "outputs": [],
   "source": [
    "def assign_to_centroid( df_data, df_centroids ):\n",
    "    closest_idxs = []\n",
    "        \n",
    "    for i in range(len(df_data)):\n",
    "        point = list(df_data.iloc[i].values)\n",
    "        centroid_distances = []\n",
    "        \n",
    "        for j in range(len(df_centroids)):\n",
    "            centroid = list(df_centroids.iloc[j].values)\n",
    "            distSum = 0\n",
    "            \n",
    "            for k in range(len(centroid)):\n",
    "                c = centroid[k]\n",
    "                p = point[k]\n",
    "                distSum += ((c - p)**2)\n",
    "                \n",
    "            distance = np.sqrt(distSum)\n",
    "            centroid_distances.append(distance)\n",
    "        \n",
    "        idx_min = np.inf\n",
    "        dist_min = np.inf\n",
    "\n",
    "        for idx in range(len(df_centroids)):\n",
    "            dist = centroid_distances[idx]\n",
    "            if dist < dist_min:\n",
    "                idx_min = idx\n",
    "                dist_min = dist\n",
    "        closest_idxs.append(idx_min)\n",
    "    \n",
    "    return pd.Series(closest_idxs)"
   ]
  },
  {
   "cell_type": "code",
   "execution_count": 8,
   "id": "b28ad385",
   "metadata": {},
   "outputs": [
    {
     "data": {
      "text/plain": [
       "6    126\n",
       "1     94\n",
       "3     71\n",
       "5     58\n",
       "0     53\n",
       "2     26\n",
       "4     22\n",
       "dtype: int64"
      ]
     },
     "execution_count": 8,
     "metadata": {},
     "output_type": "execute_result"
    }
   ],
   "source": [
    "# apply function to centroids to make assignments to centroids \n",
    "s_centroid_assignment = assign_to_centroid( df_kmeans, df_centroids )\n",
    "s_centroid_assignment.value_counts()"
   ]
  },
  {
   "cell_type": "markdown",
   "id": "400d1752",
   "metadata": {},
   "source": [
    "## Write function that recomputes centroids \n",
    "\n",
    "This function takes two parameters: the data frame, df_data containing the data being clustered, and a series of the same length that contains the label of the assigned centroid for every row in df_data, s_centroid_assignment. It will return a data frame containing the centroids (mean) value for each unique centroid. "
   ]
  },
  {
   "cell_type": "code",
   "execution_count": 9,
   "id": "8c7062ab",
   "metadata": {},
   "outputs": [],
   "source": [
    "def compute_centroids( df_data, s_centroid_assignment ):\n",
    "    temp_df = df_data.copy()\n",
    "    temp_df['centroid_assignment'] = s_centroid_assignment\n",
    "    \n",
    "    k = s_centroid_assignment.nunique()\n",
    "    new_centroids = []\n",
    "    for idx in range(k):\n",
    "        k_df = temp_df[temp_df['centroid_assignment'] == idx]\n",
    "        xsMean = k_df['x'].mean()\n",
    "        ysMean= k_df['y'].mean()\n",
    "        new_centroids.append([xsMean, ysMean])\n",
    "        \n",
    "    xs = []\n",
    "    ys = []\n",
    "    for point in new_centroids:\n",
    "        xs.append(point[0])\n",
    "        ys.append(point[1])\n",
    "    \n",
    "    new_df = pd.DataFrame()\n",
    "    new_df['x'] = xs\n",
    "    new_df['y'] = ys\n",
    "    \n",
    "    return new_df"
   ]
  },
  {
   "cell_type": "code",
   "execution_count": 11,
   "id": "234c130b",
   "metadata": {},
   "outputs": [
    {
     "data": {
      "text/html": [
       "<div>\n",
       "<style scoped>\n",
       "    .dataframe tbody tr th:only-of-type {\n",
       "        vertical-align: middle;\n",
       "    }\n",
       "\n",
       "    .dataframe tbody tr th {\n",
       "        vertical-align: top;\n",
       "    }\n",
       "\n",
       "    .dataframe thead th {\n",
       "        text-align: right;\n",
       "    }\n",
       "</style>\n",
       "<table border=\"1\" class=\"dataframe\">\n",
       "  <thead>\n",
       "    <tr style=\"text-align: right;\">\n",
       "      <th></th>\n",
       "      <th>x</th>\n",
       "      <th>y</th>\n",
       "    </tr>\n",
       "  </thead>\n",
       "  <tbody>\n",
       "    <tr>\n",
       "      <th>0</th>\n",
       "      <td>-0.715983</td>\n",
       "      <td>0.500552</td>\n",
       "    </tr>\n",
       "    <tr>\n",
       "      <th>1</th>\n",
       "      <td>-0.721574</td>\n",
       "      <td>0.708343</td>\n",
       "    </tr>\n",
       "    <tr>\n",
       "      <th>2</th>\n",
       "      <td>-0.738268</td>\n",
       "      <td>-0.113830</td>\n",
       "    </tr>\n",
       "    <tr>\n",
       "      <th>3</th>\n",
       "      <td>-0.696694</td>\n",
       "      <td>-0.699028</td>\n",
       "    </tr>\n",
       "    <tr>\n",
       "      <th>4</th>\n",
       "      <td>-0.546913</td>\n",
       "      <td>0.321364</td>\n",
       "    </tr>\n",
       "    <tr>\n",
       "      <th>5</th>\n",
       "      <td>-0.102365</td>\n",
       "      <td>-0.188876</td>\n",
       "    </tr>\n",
       "    <tr>\n",
       "      <th>6</th>\n",
       "      <td>0.523364</td>\n",
       "      <td>0.238569</td>\n",
       "    </tr>\n",
       "  </tbody>\n",
       "</table>\n",
       "</div>"
      ],
      "text/plain": [
       "          x         y\n",
       "0 -0.715983  0.500552\n",
       "1 -0.721574  0.708343\n",
       "2 -0.738268 -0.113830\n",
       "3 -0.696694 -0.699028\n",
       "4 -0.546913  0.321364\n",
       "5 -0.102365 -0.188876\n",
       "6  0.523364  0.238569"
      ]
     },
     "execution_count": 11,
     "metadata": {},
     "output_type": "execute_result"
    }
   ],
   "source": [
    "# apply function to data to get new centroids\n",
    "df_new_centroids = compute_centroids( df_kmeans, s_centroid_assignment)\n",
    "df_new_centroids"
   ]
  },
  {
   "cell_type": "markdown",
   "id": "670ef838",
   "metadata": {},
   "source": [
    "## Write function that compares two centroid data frames \n",
    "\n",
    "The stopping condition for our k-means is when our centroids have not moved since the last iteration. \n",
    "\n",
    "This function will take 2 centroid dataframes and return a boolean indicating if the centroids at each unique index are equal. "
   ]
  },
  {
   "cell_type": "code",
   "execution_count": 12,
   "id": "9c8184ad",
   "metadata": {},
   "outputs": [],
   "source": [
    "def compare_centroids( df_centroid_a, df_centroid_b ):\n",
    "    same = True\n",
    "    for i in range(len(df_centroid_a)):\n",
    "        series1 = df_centroid_a.iloc[i]\n",
    "        series2 = df_centroid_b.iloc[i]\n",
    "        compare = series1.equals(series2)\n",
    "        if compare == False:\n",
    "            same = False\n",
    "    return same"
   ]
  },
  {
   "cell_type": "code",
   "execution_count": 13,
   "id": "74b662ab",
   "metadata": {},
   "outputs": [
    {
     "name": "stdout",
     "output_type": "stream",
     "text": [
      "False\n"
     ]
    }
   ],
   "source": [
    "# apply to centroid dataframes to check equality \n",
    "print(compare_centroids( df_new_centroids, df_centroids ))"
   ]
  },
  {
   "cell_type": "markdown",
   "id": "39eeb7f5",
   "metadata": {},
   "source": [
    "## Write function that implements k-means via the previously written functions\n",
    "\n",
    "This function takes a dataframe with values to cluster and the number of clusters to form (k). It returns a series of data of the same length as the original dataset that contains the cluster assignments. "
   ]
  },
  {
   "cell_type": "code",
   "execution_count": 14,
   "id": "480ad2a9",
   "metadata": {},
   "outputs": [],
   "source": [
    "def k_means( df_data, k ):\n",
    "\n",
    "    # initial clustering  \n",
    "    centroids = init_centroids(df_data, k)\n",
    "    assignments = assign_to_centroid(df_data, centroids)\n",
    "    newCentroids = compute_centroids(df_data, assignments)\n",
    "    \n",
    "    # continue until centroids are equal\n",
    "    while compare_centroids(centroids, newCentroids) == False:\n",
    "        centroids = newCentroids\n",
    "        assignments = assign_to_centroid(df_data, newCentroids)\n",
    "        newCentroids = compute_centroids(df_data, assignments)\n",
    "    \n",
    "    return assignments"
   ]
  },
  {
   "cell_type": "code",
   "execution_count": null,
   "id": "5ff79170",
   "metadata": {},
   "outputs": [],
   "source": [
    "# Call k_means with k = 5 to test\n",
    "s_cluster_assignment = k_means( df_kmeans, 5)\n",
    "s_cluster_assignment.value_counts()"
   ]
  }
 ],
 "metadata": {
  "kernelspec": {
   "display_name": "Python 3 (ipykernel)",
   "language": "python",
   "name": "python3"
  },
  "language_info": {
   "codemirror_mode": {
    "name": "ipython",
    "version": 3
   },
   "file_extension": ".py",
   "mimetype": "text/x-python",
   "name": "python",
   "nbconvert_exporter": "python",
   "pygments_lexer": "ipython3",
   "version": "3.9.13"
  }
 },
 "nbformat": 4,
 "nbformat_minor": 5
}
